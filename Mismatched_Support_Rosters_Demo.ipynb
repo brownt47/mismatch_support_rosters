{
  "cells": [
    {
      "cell_type": "markdown",
      "id": "d695e305",
      "metadata": {
        "id": "d695e305"
      },
      "source": [
        "# 📊  Enrollment Mismatch Checker\n",
        "* Compares student rosters between paired main and support CRNs (e.g., MATH 1001 & 0997)\n",
        "* Flags mismatches where students are enrolled in one but not the other\n",
        "* Outputs results to an Excel file with preserved IDs, names, emails and timestamps"
      ]
    },
    {
      "cell_type": "markdown",
      "id": "cfeb9437",
      "metadata": {
        "id": "cfeb9437"
      },
      "source": [
        "## 🔹 Load Libraries and Packages"
      ]
    },
    {
      "cell_type": "code",
      "source": [
        "#!pip install XlsxWriter"
      ],
      "metadata": {
        "colab": {
          "base_uri": "https://localhost:8080/"
        },
        "id": "5VuwPHSVXFxU",
        "outputId": "ddc9b287-413e-4257-86b8-5cd4426c96aa"
      },
      "id": "5VuwPHSVXFxU",
      "execution_count": 78,
      "outputs": [
        {
          "output_type": "stream",
          "name": "stdout",
          "text": [
            "Requirement already satisfied: XlsxWriter in /usr/local/lib/python3.11/dist-packages (3.2.3)\n"
          ]
        }
      ]
    },
    {
      "cell_type": "code",
      "execution_count": 79,
      "id": "903a2a13",
      "metadata": {
        "id": "903a2a13"
      },
      "outputs": [],
      "source": [
        "# 📦 Setup\n",
        "from google.colab import files, drive\n",
        "import pandas as pd\n",
        "import numpy as np\n",
        "import re\n",
        "from datetime import datetime\n"
      ]
    },
    {
      "cell_type": "code",
      "source": [
        "#Convert campus codes to campus names\n",
        "campus_lookup = {\n",
        "    'PA': 'Alpharetta',\n",
        "    'PC': 'Clarkston',\n",
        "    'PN': 'Dunwoody',\n",
        "    'PE': 'Newton',\n",
        "    'PS': 'Decatur',\n",
        "    'PF': 'Online',\n",
        "}"
      ],
      "metadata": {
        "id": "VsSsVECEcEQB"
      },
      "id": "VsSsVECEcEQB",
      "execution_count": 80,
      "outputs": []
    },
    {
      "cell_type": "code",
      "source": [
        "# 📄 Load class roster and schedule files\n",
        "schedule_url = 'https://raw.githubusercontent.com/brownt47/mismatch_support_rosters/main/assets/CSV_Class_Schedule_Summer_Demo.csv'\n",
        "schedule_df = pd.read_csv(schedule_url)"
      ],
      "metadata": {
        "id": "KeFrSBQfNure"
      },
      "id": "KeFrSBQfNure",
      "execution_count": 81,
      "outputs": []
    },
    {
      "cell_type": "code",
      "source": [
        "roster_url = 'https://raw.githubusercontent.com/brownt47/mismatch_support_rosters/main/assets/Class_Rosters_Demo.csv'\n",
        "roster_df = pd.read_csv(roster_url)\n"
      ],
      "metadata": {
        "id": "eJHckUxFVBni"
      },
      "id": "eJHckUxFVBni",
      "execution_count": 82,
      "outputs": []
    },
    {
      "cell_type": "code",
      "source": [
        "# Convert all column names to lowercase\n",
        "roster_df.columns = roster_df.columns.str.lower()\n",
        "schedule_df.columns = schedule_df.columns.str.lower()"
      ],
      "metadata": {
        "id": "HsymzZWRO0V7"
      },
      "id": "HsymzZWRO0V7",
      "execution_count": 83,
      "outputs": []
    },
    {
      "cell_type": "code",
      "source": [
        "# Ensure CRNs are strings for consistency\n",
        "roster_df['ssbsect_crn'] = roster_df['ssbsect_crn'].astype(str)\n",
        "schedule_df['crn'] = schedule_df['crn'].astype(str)"
      ],
      "metadata": {
        "id": "PKxSs4BTOIRF"
      },
      "id": "PKxSs4BTOIRF",
      "execution_count": 84,
      "outputs": []
    },
    {
      "cell_type": "code",
      "source": [
        "# Ensure student IDs are cast as string not to lose leading zeros - 002123456 -> 2123456\n",
        "roster_df['id'] = roster_df['id'].astype(str).str.zfill(9)  # or adjust length as needed"
      ],
      "metadata": {
        "id": "0DK32iS2UZ7K"
      },
      "id": "0DK32iS2UZ7K",
      "execution_count": 85,
      "outputs": []
    },
    {
      "cell_type": "code",
      "source": [
        "# Identify courses with support CRNs\n",
        "schedule_df['has_support'] = (\n",
        "    schedule_df['subj_crsnumb'].isin(['MATH 0999', 'MATH 0997', 'MATH 0996',\n",
        "                                      'MATH 1111', 'MATH 1001', 'MATH 1401']) &\n",
        "    schedule_df['comments'].str.upper().str.contains('CRN', na=False)\n",
        ").astype(int)"
      ],
      "metadata": {
        "id": "-_N3PfdKOTfM"
      },
      "id": "-_N3PfdKOTfM",
      "execution_count": 86,
      "outputs": []
    },
    {
      "cell_type": "code",
      "source": [
        "# Create filtered copy of only support linked courses\n",
        "support_df = schedule_df[schedule_df['has_support'] == 1].copy()"
      ],
      "metadata": {
        "id": "6G6pnJ92OUaM"
      },
      "id": "6G6pnJ92OUaM",
      "execution_count": 87,
      "outputs": []
    },
    {
      "cell_type": "code",
      "source": [
        "# 🔗 Extract linked CRNs\n",
        "support_df['linked_crn'] = support_df['comments'].str.extract(r'(?:CRN[:\\s#-]*?)?(\\d{5})', expand=False)\n",
        "support_df['linked_crn'] = support_df['linked_crn'].astype(str)"
      ],
      "metadata": {
        "id": "blPgtPE3PIMD"
      },
      "id": "blPgtPE3PIMD",
      "execution_count": 88,
      "outputs": []
    },
    {
      "cell_type": "code",
      "source": [
        "# Build a lookup: CRN → subj_crsnumb for all courses\n",
        "crn_to_course = schedule_df.set_index('crn')['subj_crsnumb'].to_dict()\n",
        "\n",
        "# Add main course subject to support_df\n",
        "support_df['linked_subj_crsnumb'] = support_df['linked_crn'].map(crn_to_course)\n"
      ],
      "metadata": {
        "id": "UBIOx3IYRoEx"
      },
      "id": "UBIOx3IYRoEx",
      "execution_count": 89,
      "outputs": []
    },
    {
      "cell_type": "code",
      "source": [
        "#Create CRN → Campus Lookup\n",
        "crn_to_campus_code = schedule_df.set_index('crn')['camp'].to_dict()\n",
        "crn_to_campus = {crn: campus_lookup.get(code, code) for crn, code in crn_to_campus_code.items()}\n"
      ],
      "metadata": {
        "id": "1NM0rWkmcWRQ"
      },
      "id": "1NM0rWkmcWRQ",
      "execution_count": 90,
      "outputs": []
    },
    {
      "cell_type": "code",
      "source": [
        "# 📋 Prepare student roster lookup by CRN\n",
        "# Creates: { (crn, student_id): row with name/email info }\n",
        "crn_to_students = (\n",
        "    roster_df.groupby('ssbsect_crn')\n",
        "    .apply(lambda x: x.set_index('id')[['spriden_last_name', 'spriden_first_name', 'email']])\n",
        "    .to_dict(orient='index')\n",
        ")"
      ],
      "metadata": {
        "colab": {
          "base_uri": "https://localhost:8080/"
        },
        "id": "rVmb9pCsPJzL",
        "outputId": "366ef2a7-53bb-47ff-ec21-468f061f4a88"
      },
      "id": "rVmb9pCsPJzL",
      "execution_count": 91,
      "outputs": [
        {
          "output_type": "stream",
          "name": "stderr",
          "text": [
            "<ipython-input-91-072222b830bc>:5: DeprecationWarning: DataFrameGroupBy.apply operated on the grouping columns. This behavior is deprecated, and in a future version of pandas the grouping columns will be excluded from the operation. Either pass `include_groups=False` to exclude the groupings or explicitly select the grouping columns after groupby to silence this warning.\n",
            "  .apply(lambda x: x.set_index('id')[['spriden_last_name', 'spriden_first_name', 'email']])\n"
          ]
        }
      ]
    },
    {
      "cell_type": "code",
      "source": [
        "def extract_info(student_ids, roster_df, crn):\n",
        "    return [\n",
        "        {\n",
        "            'id': sid,\n",
        "            'last': roster_df.loc[(roster_df['id'] == sid) & (roster_df['ssbsect_crn'] == crn), 'spriden_last_name'].values[0],\n",
        "            'first': roster_df.loc[(roster_df['id'] == sid) & (roster_df['ssbsect_crn'] == crn), 'spriden_first_name'].values[0],\n",
        "            'email': roster_df.loc[(roster_df['id'] == sid) & (roster_df['ssbsect_crn'] == crn), 'email'].values[0],\n",
        "        }\n",
        "        for sid in student_ids\n",
        "        if ((roster_df['id'] == sid) & (roster_df['ssbsect_crn'] == crn)).any()\n",
        "    ]\n"
      ],
      "metadata": {
        "id": "beut-3p9Psw7"
      },
      "id": "beut-3p9Psw7",
      "execution_count": 92,
      "outputs": []
    },
    {
      "cell_type": "code",
      "source": [
        "# 🔍 Compare student lists between main and support CRNs\n",
        "seen_pairs = set()\n",
        "results = []\n",
        "\n",
        "for _, row in support_df.iterrows():\n",
        "    main_crn = row['linked_crn']\n",
        "    support_crn = row['crn']\n",
        "\n",
        "    # Skip reversed duplicates\n",
        "    pair_key = tuple(sorted([main_crn, support_crn]))\n",
        "    if pair_key in seen_pairs:\n",
        "        continue\n",
        "    seen_pairs.add(pair_key)\n",
        "\n",
        "    main_campus = crn_to_campus.get(main_crn, 'Unknown')\n",
        "    support_campus = crn_to_campus.get(support_crn, 'Unknown')\n",
        "\n",
        "    main_students = set(roster_df[roster_df['ssbsect_crn'] == main_crn]['id'])\n",
        "    support_students = set(roster_df[roster_df['ssbsect_crn'] == support_crn]['id'])\n",
        "\n",
        "    in_main_only = main_students - support_students\n",
        "    in_support_only = support_students - main_students\n",
        "\n",
        "    results.append({\n",
        "      'main_crn': main_crn,\n",
        "      'support_crn': support_crn,\n",
        "      'linked_subj_crsnumb': row['linked_subj_crsnumb'],\n",
        "      'support_subj_crsnumb': row['subj_crsnumb'],\n",
        "      'main_campus': main_campus,\n",
        "      'support_campus': support_campus,\n",
        "      'in_main_only': extract_info(in_main_only, roster_df, main_crn),\n",
        "      'in_support_only': extract_info(in_support_only, roster_df, support_crn)\n",
        "})\n"
      ],
      "metadata": {
        "id": "24TJPSkwP5OJ"
      },
      "id": "24TJPSkwP5OJ",
      "execution_count": 93,
      "outputs": []
    },
    {
      "cell_type": "code",
      "source": [
        "# 🔢 Summary: Total CRN pairs checked\n",
        "num_crn_pairs_checked = len(results)\n",
        "\n",
        "# 🧑‍🎓 Summary: Total unique students checked across all CRNs\n",
        "all_crns = set()\n",
        "for entry in results:\n",
        "    all_crns.update([entry['main_crn'], entry['support_crn']])\n",
        "\n",
        "filtered_roster = roster_df[roster_df['ssbsect_crn'].isin(all_crns)]\n",
        "unique_ids = filtered_roster['id'].nunique()\n",
        "\n",
        "# 🖨️ Display summary\n",
        "print(\"\\n📊 Summary\")\n",
        "print(f\"Total CRN pairs checked: {num_crn_pairs_checked}\")\n",
        "print(f\"Total unique student IDs checked: {unique_ids}\")\n"
      ],
      "metadata": {
        "colab": {
          "base_uri": "https://localhost:8080/"
        },
        "id": "NLIeaw0peQEQ",
        "outputId": "bd699ade-aa1e-4cce-fbf2-a3f0705a4bd7"
      },
      "id": "NLIeaw0peQEQ",
      "execution_count": 94,
      "outputs": [
        {
          "output_type": "stream",
          "name": "stdout",
          "text": [
            "\n",
            "📊 Summary\n",
            "Total CRN pairs checked: 38\n",
            "Total unique student IDs checked: 650\n"
          ]
        }
      ]
    },
    {
      "cell_type": "code",
      "source": [
        "# 🖨️ Print Only CRN Pairs with Mismatches\n",
        "for entry in results:\n",
        "    if not entry['in_main_only'] and not entry['in_support_only']:\n",
        "        continue  # ✅ Skip if no mismatches\n",
        "\n",
        "    print(\n",
        "    f\"\\n\\033[1m{entry['main_campus']}\\033[0m\\n\"\n",
        "    f\"Main {entry['linked_subj_crsnumb']} CRN: {entry['main_crn']} | \"\n",
        "    f\"Support {entry['support_subj_crsnumb']} CRN: {entry['support_crn']}\\n\"\n",
        ")\n",
        "\n",
        "    if entry['in_main_only']:\n",
        "        print(\"➤ In Main Only:\")\n",
        "        for s in entry['in_main_only']:\n",
        "            print(f\"  - {s['id']} | {s['last']}, {s['first']} | {s['email']}\")\n",
        "\n",
        "    if entry['in_support_only']:\n",
        "        print(\"➤ In Support Only:\")\n",
        "        for s in entry['in_support_only']:\n",
        "            print(f\"  - {s['id']} | {s['last']}, {s['first']} | {s['email']}\")\n"
      ],
      "metadata": {
        "colab": {
          "base_uri": "https://localhost:8080/"
        },
        "id": "O_Si1mygRCQ4",
        "outputId": "e34bcc7a-808f-479f-f472-6e0062bd564f"
      },
      "id": "O_Si1mygRCQ4",
      "execution_count": 95,
      "outputs": [
        {
          "output_type": "stream",
          "name": "stdout",
          "text": [
            "\n",
            "\u001b[1mUnknown\u001b[0m\n",
            "Main nan CRN: 54578 | Support MATH 0996 CRN: 54677\n",
            "\n",
            "➤ In Support Only:\n",
            "  - 002666893 | Clark, Mitchell | mclark16@student.gsu.edu\n",
            "  - 002730080 | Pineda, Joshua | jpineda12@student.gsu.edu\n",
            "  - 002864820 | Scott, Scott | sscott49@student.gsu.edu\n",
            "  - 002845118 | Hicks, Laura | lhicks40@student.gsu.edu\n",
            "  - 002307376 | Melendez, Linda | lmelendez12@student.gsu.edu\n",
            "  - 002720903 | Frye, Keith | kfrye34@student.gsu.edu\n",
            "  - 002793837 | Prince, Melissa | mprince15@student.gsu.edu\n",
            "  - 002943267 | Mosley, Paul | pmosley25@student.gsu.edu\n",
            "  - 002850896 | Robertson, Richard | rrobertson99@student.gsu.edu\n",
            "  - 002284401 | Aguilar, Mary | maguilar94@student.gsu.edu\n",
            "  - 002752940 | Silva, Brian | bsilva79@student.gsu.edu\n",
            "  - 002745481 | Jimenez, Marilyn | mjimenez14@student.gsu.edu\n",
            "\n",
            "\u001b[1mDecatur\u001b[0m\n",
            "Main MATH 1111 CRN: 51608 | Support MATH 0999 CRN: 51606\n",
            "\n",
            "➤ In Support Only:\n",
            "  - 002954118 | Fox, James | jfox66@student.gsu.edu\n",
            "\n",
            "\u001b[1mOnline\u001b[0m\n",
            "Main MATH 1001 CRN: 54751 | Support MATH 0997 CRN: 54750\n",
            "\n",
            "➤ In Main Only:\n",
            "  - 002804742 | Rodgers, Maria | mrodgers50@student.gsu.edu\n",
            "\n",
            "\u001b[1mDunwoody\u001b[0m\n",
            "Main MATH 1401 CRN: 55131 | Support MATH 0996 CRN: 55132\n",
            "\n",
            "➤ In Main Only:\n",
            "  - 002921164 | Moody, Debra | dmoody13@student.gsu.edu\n"
          ]
        }
      ]
    },
    {
      "cell_type": "markdown",
      "source": [
        "# Create Excel Report"
      ],
      "metadata": {
        "id": "Ah7MHoTjdjib"
      },
      "id": "Ah7MHoTjdjib"
    },
    {
      "cell_type": "code",
      "source": [
        "import pytz\n",
        "from datetime import datetime\n",
        "\n",
        "# Set timezone to US Eastern\n",
        "eastern = pytz.timezone('US/Eastern')\n",
        "now_et = datetime.now(eastern)"
      ],
      "metadata": {
        "id": "nCbLAWMXX1q7"
      },
      "id": "nCbLAWMXX1q7",
      "execution_count": 96,
      "outputs": []
    },
    {
      "cell_type": "code",
      "source": [
        "# Break it into parts to selectively format\n",
        "month_day_year = now_et.strftime('%b_%d_%Y')  # e.g., Aug_08_2025 (keeps month capitalized)\n",
        "hour_minute = now_et.strftime('%I_%M').lstrip('0')  # e.g., 2_30\n",
        "am_pm = now_et.strftime('%p').lower()  # e.g., am or pm\n",
        "\n",
        "# Combine to final timestamp\n",
        "timestamp = f\"{month_day_year}_{hour_minute}{am_pm}\"\n",
        "report_filename = f'Enrollment_Mismatch_Report_{timestamp}.xlsx'"
      ],
      "metadata": {
        "id": "MylUsdyRYnLa"
      },
      "id": "MylUsdyRYnLa",
      "execution_count": 97,
      "outputs": []
    },
    {
      "cell_type": "code",
      "source": [
        "# Ensure student IDs are strings with 9 digits (preserve 900 / 002 formats)\n",
        "roster_df['id'] = roster_df['id'].astype(str).str.zfill(9)\n",
        "\n",
        "# 📦 Flatten results into exportable rows\n",
        "export_rows = []\n",
        "\n",
        "for entry in results:\n",
        "    if not entry['in_main_only'] and not entry['in_support_only']:\n",
        "        continue\n",
        "\n",
        "    for s in entry['in_main_only']:\n",
        "        export_rows.append({\n",
        "        'campus': entry['main_campus'],\n",
        "        'main_crn': entry['main_crn'],\n",
        "        'main_course': entry['linked_subj_crsnumb'],\n",
        "        'support_crn': entry['support_crn'],\n",
        "        'support_course': entry['support_subj_crsnumb'],\n",
        "        'direction': 'In Main Only',\n",
        "        'id': s['id'],\n",
        "        'last': s['last'],\n",
        "        'first': s['first'],\n",
        "        'email': s['email'],\n",
        "    })\n",
        "\n",
        "    for s in entry['in_support_only']:\n",
        "        export_rows.append({\n",
        "        'campus': entry['main_campus'],\n",
        "        'main_crn': entry['main_crn'],\n",
        "        'main_course': entry['linked_subj_crsnumb'],\n",
        "        'support_crn': entry['support_crn'],\n",
        "        'support_course': entry['support_subj_crsnumb'],\n",
        "        'direction': 'In Support Only',\n",
        "        'id': s['id'],\n",
        "        'last': s['last'],\n",
        "        'first': s['first'],\n",
        "        'email': s['email'],\n",
        "    })\n",
        "\n",
        "# Convert to DataFrame\n",
        "mismatch_df = pd.DataFrame(export_rows)\n",
        "\n",
        "# 💾 Export to Excel with ID column as text\n",
        "with pd.ExcelWriter(report_filename, engine='xlsxwriter') as writer:\n",
        "    mismatch_df.to_excel(writer, index=False, sheet_name='Mismatches')\n",
        "\n",
        "    # Apply formatting to ensure IDs are treated as text\n",
        "    workbook  = writer.book\n",
        "    worksheet = writer.sheets['Mismatches']\n",
        "    text_format = workbook.add_format({'num_format': '@'})\n",
        "\n",
        "    # Find the column index of 'id' (in case column order changes)\n",
        "    id_col_idx = mismatch_df.columns.get_loc('id')\n",
        "    excel_col_letter = chr(ord('A') + id_col_idx)  # assumes < 26 columns\n",
        "    worksheet.set_column(f'{excel_col_letter}:{excel_col_letter}', 15, text_format)\n"
      ],
      "metadata": {
        "id": "6UZl2rqzWRBH"
      },
      "id": "6UZl2rqzWRBH",
      "execution_count": 98,
      "outputs": []
    },
    {
      "cell_type": "code",
      "source": [
        "# 📤 Download from Colab\n",
        "from google.colab import files\n",
        "files.download(report_filename)"
      ],
      "metadata": {
        "colab": {
          "base_uri": "https://localhost:8080/",
          "height": 17
        },
        "id": "byeXlFDHXfVz",
        "outputId": "756e74ec-9799-43f0-eeba-e12b54f7ef19"
      },
      "id": "byeXlFDHXfVz",
      "execution_count": 99,
      "outputs": [
        {
          "output_type": "display_data",
          "data": {
            "text/plain": [
              "<IPython.core.display.Javascript object>"
            ],
            "application/javascript": [
              "\n",
              "    async function download(id, filename, size) {\n",
              "      if (!google.colab.kernel.accessAllowed) {\n",
              "        return;\n",
              "      }\n",
              "      const div = document.createElement('div');\n",
              "      const label = document.createElement('label');\n",
              "      label.textContent = `Downloading \"${filename}\": `;\n",
              "      div.appendChild(label);\n",
              "      const progress = document.createElement('progress');\n",
              "      progress.max = size;\n",
              "      div.appendChild(progress);\n",
              "      document.body.appendChild(div);\n",
              "\n",
              "      const buffers = [];\n",
              "      let downloaded = 0;\n",
              "\n",
              "      const channel = await google.colab.kernel.comms.open(id);\n",
              "      // Send a message to notify the kernel that we're ready.\n",
              "      channel.send({})\n",
              "\n",
              "      for await (const message of channel.messages) {\n",
              "        // Send a message to notify the kernel that we're ready.\n",
              "        channel.send({})\n",
              "        if (message.buffers) {\n",
              "          for (const buffer of message.buffers) {\n",
              "            buffers.push(buffer);\n",
              "            downloaded += buffer.byteLength;\n",
              "            progress.value = downloaded;\n",
              "          }\n",
              "        }\n",
              "      }\n",
              "      const blob = new Blob(buffers, {type: 'application/binary'});\n",
              "      const a = document.createElement('a');\n",
              "      a.href = window.URL.createObjectURL(blob);\n",
              "      a.download = filename;\n",
              "      div.appendChild(a);\n",
              "      a.click();\n",
              "      div.remove();\n",
              "    }\n",
              "  "
            ]
          },
          "metadata": {}
        },
        {
          "output_type": "display_data",
          "data": {
            "text/plain": [
              "<IPython.core.display.Javascript object>"
            ],
            "application/javascript": [
              "download(\"download_31491cfb-e200-43dc-8d32-6312883f92f3\", \"Enrollment_Mismatch_Report_May_28_2025_11_49am.xlsx\", 6678)"
            ]
          },
          "metadata": {}
        }
      ]
    }
  ],
  "metadata": {
    "colab": {
      "provenance": []
    },
    "language_info": {
      "name": "python"
    },
    "kernelspec": {
      "name": "python3",
      "display_name": "Python 3"
    }
  },
  "nbformat": 4,
  "nbformat_minor": 5
}